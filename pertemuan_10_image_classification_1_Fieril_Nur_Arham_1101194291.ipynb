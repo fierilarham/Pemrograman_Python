{
  "nbformat": 4,
  "nbformat_minor": 0,
  "metadata": {
    "colab": {
      "name": "pertemuan 10_image classification 1_Fieril Nur Arham_1101194291.ipynb",
      "provenance": [],
      "collapsed_sections": [],
      "authorship_tag": "ABX9TyMLbVz8DY3VWUbi5E0RmSgA",
      "include_colab_link": true
    },
    "kernelspec": {
      "name": "python3",
      "display_name": "Python 3"
    }
  },
  "cells": [
    {
      "cell_type": "markdown",
      "metadata": {
        "id": "view-in-github",
        "colab_type": "text"
      },
      "source": [
        "<a href=\"https://colab.research.google.com/github/fierilarham/Pemrograman_Python/blob/main/pertemuan_10_image_classification_1_Fieril_Nur_Arham_1101194291.ipynb\" target=\"_parent\"><img src=\"https://colab.research.google.com/assets/colab-badge.svg\" alt=\"Open In Colab\"/></a>"
      ]
    },
    {
      "cell_type": "code",
      "metadata": {
        "colab": {
          "base_uri": "https://localhost:8080/"
        },
        "id": "io9VWicm6Auh",
        "outputId": "27d61e7b-51eb-4437-fd4c-7d7b20bd7507"
      },
      "source": [
        "from google.colab import drive\n",
        "drive.mount('/content/drive')"
      ],
      "execution_count": 42,
      "outputs": [
        {
          "output_type": "stream",
          "text": [
            "Drive already mounted at /content/drive; to attempt to forcibly remount, call drive.mount(\"/content/drive\", force_remount=True).\n"
          ],
          "name": "stdout"
        }
      ]
    },
    {
      "cell_type": "code",
      "metadata": {
        "colab": {
          "base_uri": "https://localhost:8080/"
        },
        "id": "P6uz4JlX8eMx",
        "outputId": "57459fda-1342-489a-ef70-c262bb8df83f"
      },
      "source": [
        "cd /content/drive/MyDrive/Colab Notebooks"
      ],
      "execution_count": 43,
      "outputs": [
        {
          "output_type": "stream",
          "text": [
            "/content/drive/MyDrive/Colab Notebooks\n"
          ],
          "name": "stdout"
        }
      ]
    },
    {
      "cell_type": "code",
      "metadata": {
        "id": "erGo86HV9iHG"
      },
      "source": [
        "ls"
      ],
      "execution_count": null,
      "outputs": []
    },
    {
      "cell_type": "code",
      "metadata": {
        "id": "gC_yjNF092rd"
      },
      "source": [
        "# import the necessary packages\n",
        "from keras.models import Sequential\n",
        "from keras.layers.core import Activation\n",
        "from keras.layers.core import Flatten\n",
        "from keras.layers.core import Dense\n",
        "from keras.optimizers import Adam\n",
        "from sklearn.preprocessing import LabelBinarizer\n",
        "from sklearn.model_selection import train_test_split\n",
        "from sklearn.metrics import classification_report\n",
        "from PIL import Image\n",
        "from imutils import paths\n",
        "import numpy as np\n",
        "import os "
      ],
      "execution_count": 45,
      "outputs": []
    },
    {
      "cell_type": "code",
      "metadata": {
        "id": "A8fRZsl3ELaF"
      },
      "source": [
        "# grab all image paths in the input dataset directory, then initialize\n",
        "# our list of images and corresponding class labels\n",
        "print(\"[INFO] loading images...\")\n",
        "imagePaths = paths.list_images(\"3scene\")\n",
        "data = []\n",
        "labels = []  "
      ],
      "execution_count": null,
      "outputs": []
    },
    {
      "cell_type": "code",
      "metadata": {
        "id": "C08HsDNTFsDD"
      },
      "source": [
        "# loop over our input images\n",
        "for imagePath in imagePaths:\n",
        "  # load the input image from disk, resize it to 64x64 pixels, scale\n",
        "  # the pixel intensities to the range [0, 1], and then update our\n",
        "  # image list\n",
        "  image = Image.open(imagePath)\n",
        "  image = np.array(image.resize((64, 64))) / 255.0\n",
        "  data.append(image)\n",
        "\n",
        "  # extract the class label from the file path and update the\n",
        "  #label list\n",
        "  label = imagePath.split(os.path.sep)[-2]\n",
        "  labels.append(label)"
      ],
      "execution_count": 47,
      "outputs": []
    },
    {
      "cell_type": "code",
      "metadata": {
        "colab": {
          "base_uri": "https://localhost:8080/"
        },
        "id": "BxN7Xkb4QCoV",
        "outputId": "7c1ed0d1-cfa2-4e2b-eaac-72d1d99b9b61"
      },
      "source": [
        "print(labels)"
      ],
      "execution_count": 48,
      "outputs": [
        {
          "output_type": "stream",
          "text": [
            "['forest', 'forest', 'forest', 'forest', 'forest', 'forest', 'forest', 'forest', 'forest', 'forest', 'forest', 'forest', 'forest', 'forest', 'forest', 'forest', 'forest', 'forest', 'forest', 'forest', 'forest', 'forest', 'forest', 'forest', 'forest', 'forest', 'forest', 'forest', 'forest', 'forest', 'forest', 'forest', 'forest', 'forest', 'forest', 'forest', 'forest', 'forest', 'forest', 'forest', 'forest', 'forest', 'forest', 'forest', 'forest', 'forest', 'forest', 'forest', 'forest', 'forest', 'forest', 'forest', 'forest', 'forest', 'forest', 'forest', 'forest', 'forest', 'forest', 'forest', 'forest', 'forest', 'forest', 'forest', 'forest', 'forest', 'forest', 'forest', 'forest', 'forest', 'forest', 'forest', 'forest', 'forest', 'forest', 'forest', 'forest', 'forest', 'forest', 'forest', 'forest', 'forest', 'forest', 'forest', 'forest', 'forest', 'forest', 'forest', 'forest', 'forest', 'forest', 'forest', 'forest', 'forest', 'forest', 'forest', 'forest', 'forest', 'forest', 'forest', 'forest', 'forest', 'forest', 'forest', 'forest', 'forest', 'forest', 'forest', 'forest', 'forest', 'forest', 'forest', 'forest', 'forest', 'forest', 'forest', 'forest', 'forest', 'forest', 'forest', 'forest', 'forest', 'forest', 'forest', 'forest', 'forest', 'forest', 'forest', 'forest', 'forest', 'forest', 'forest', 'forest', 'forest', 'forest', 'forest', 'forest', 'forest', 'forest', 'forest', 'forest', 'forest', 'forest', 'forest', 'forest', 'forest', 'forest', 'forest', 'forest', 'forest', 'forest', 'forest', 'forest', 'forest', 'forest', 'forest', 'forest', 'forest', 'forest', 'forest', 'forest', 'forest', 'forest', 'forest', 'forest', 'forest', 'forest', 'forest', 'forest', 'forest', 'forest', 'forest', 'forest', 'forest', 'forest', 'forest', 'forest', 'forest', 'forest', 'forest', 'forest', 'forest', 'forest', 'forest', 'forest', 'forest', 'forest', 'forest', 'forest', 'forest', 'forest', 'forest', 'forest', 'forest', 'forest', 'forest', 'forest', 'forest', 'forest', 'forest', 'forest', 'forest', 'forest', 'forest', 'forest', 'forest', 'forest', 'forest', 'forest', 'forest', 'forest', 'forest', 'forest', 'forest', 'forest', 'forest', 'forest', 'forest', 'forest', 'forest', 'forest', 'forest', 'forest', 'forest', 'forest', 'forest', 'forest', 'forest', 'forest', 'forest', 'forest', 'forest', 'forest', 'forest', 'forest', 'forest', 'forest', 'forest', 'forest', 'forest', 'forest', 'forest', 'forest', 'forest', 'forest', 'forest', 'forest', 'forest', 'forest', 'forest', 'forest', 'forest', 'forest', 'forest', 'forest', 'forest', 'forest', 'forest', 'forest', 'forest', 'forest', 'forest', 'forest', 'forest', 'forest', 'forest', 'forest', 'forest', 'forest', 'forest', 'forest', 'forest', 'forest', 'forest', 'forest', 'forest', 'forest', 'forest', 'forest', 'forest', 'forest', 'forest', 'forest', 'forest', 'forest', 'forest', 'forest', 'forest', 'forest', 'forest', 'forest', 'forest', 'forest', 'forest', 'forest', 'forest', 'forest', 'forest', 'forest', 'forest', 'forest', 'forest', 'forest', 'forest', 'forest', 'forest', 'forest', 'forest', 'forest', 'forest', 'forest', 'forest', 'forest', 'forest', 'forest', 'forest', 'forest', 'forest', 'forest', 'forest', 'forest', 'forest', 'forest', 'forest', 'forest', 'forest', 'forest', 'forest', 'highway', 'highway', 'highway', 'highway', 'highway', 'highway', 'highway', 'highway', 'highway', 'highway', 'highway', 'highway', 'highway', 'highway', 'highway', 'highway', 'highway', 'highway', 'highway', 'highway', 'highway', 'highway', 'highway', 'highway', 'highway', 'highway', 'highway', 'highway', 'highway', 'highway', 'highway', 'highway', 'highway', 'highway', 'highway', 'highway', 'highway', 'highway', 'highway', 'highway', 'highway', 'highway', 'highway', 'highway', 'highway', 'highway', 'highway', 'highway', 'highway', 'highway', 'highway', 'highway', 'highway', 'highway', 'highway', 'highway', 'highway', 'highway', 'highway', 'highway', 'highway', 'highway', 'highway', 'highway', 'highway', 'highway', 'highway', 'highway', 'highway', 'highway', 'highway', 'highway', 'highway', 'highway', 'highway', 'highway', 'highway', 'highway', 'highway', 'highway', 'highway', 'highway', 'highway', 'highway', 'highway', 'highway', 'highway', 'highway', 'highway', 'highway', 'highway', 'highway', 'highway', 'highway', 'highway', 'highway', 'highway', 'highway', 'highway', 'highway', 'highway', 'highway', 'highway', 'highway', 'highway', 'highway', 'highway', 'highway', 'highway', 'highway', 'highway', 'highway', 'highway', 'highway', 'highway', 'highway', 'highway', 'highway', 'highway', 'highway', 'highway', 'highway', 'highway', 'highway', 'highway', 'highway', 'highway', 'highway', 'highway', 'highway', 'highway', 'highway', 'highway', 'highway', 'highway', 'highway', 'highway', 'highway', 'highway', 'highway', 'highway', 'highway', 'highway', 'highway', 'highway', 'highway', 'highway', 'highway', 'highway', 'highway', 'highway', 'highway', 'highway', 'highway', 'highway', 'highway', 'highway', 'highway', 'highway', 'highway', 'highway', 'highway', 'highway', 'highway', 'highway', 'highway', 'highway', 'highway', 'highway', 'highway', 'highway', 'highway', 'highway', 'highway', 'highway', 'highway', 'highway', 'highway', 'highway', 'highway', 'highway', 'highway', 'highway', 'highway', 'highway', 'highway', 'highway', 'highway', 'highway', 'highway', 'highway', 'highway', 'highway', 'highway', 'highway', 'highway', 'highway', 'highway', 'highway', 'highway', 'highway', 'highway', 'highway', 'highway', 'highway', 'highway', 'highway', 'highway', 'highway', 'highway', 'highway', 'highway', 'highway', 'highway', 'highway', 'highway', 'highway', 'highway', 'highway', 'highway', 'highway', 'highway', 'highway', 'highway', 'highway', 'highway', 'highway', 'highway', 'highway', 'highway', 'highway', 'highway', 'highway', 'highway', 'highway', 'highway', 'highway', 'highway', 'highway', 'highway', 'highway', 'highway', 'highway', 'highway', 'highway', 'highway', 'highway', 'highway', 'highway', 'highway', 'highway', 'highway', 'highway', 'highway', 'highway', 'highway', 'highway', 'highway', 'highway', 'highway', 'coast', 'coast', 'coast', 'coast', 'coast', 'coast', 'coast', 'coast', 'coast', 'coast', 'coast', 'coast', 'coast', 'coast', 'coast', 'coast', 'coast', 'coast', 'coast', 'coast', 'coast', 'coast', 'coast', 'coast', 'coast', 'coast', 'coast', 'coast', 'coast', 'coast', 'coast', 'coast', 'coast', 'coast', 'coast', 'coast', 'coast', 'coast', 'coast', 'coast', 'coast', 'coast', 'coast', 'coast', 'coast', 'coast', 'coast', 'coast', 'coast', 'coast', 'coast', 'coast', 'coast', 'coast', 'coast', 'coast', 'coast', 'coast', 'coast', 'coast', 'coast', 'coast', 'coast', 'coast', 'coast', 'coast', 'coast', 'coast', 'coast', 'coast', 'coast', 'coast', 'coast', 'coast', 'coast', 'coast', 'coast', 'coast', 'coast', 'coast', 'coast', 'coast', 'coast', 'coast', 'coast', 'coast', 'coast', 'coast', 'coast', 'coast', 'coast', 'coast', 'coast', 'coast', 'coast', 'coast', 'coast', 'coast', 'coast', 'coast', 'coast', 'coast', 'coast', 'coast', 'coast', 'coast', 'coast', 'coast', 'coast', 'coast', 'coast', 'coast', 'coast', 'coast', 'coast', 'coast', 'coast', 'coast', 'coast', 'coast', 'coast', 'coast', 'coast', 'coast', 'coast', 'coast', 'coast', 'coast', 'coast', 'coast', 'coast', 'coast', 'coast', 'coast', 'coast', 'coast', 'coast', 'coast', 'coast', 'coast', 'coast', 'coast', 'coast', 'coast', 'coast', 'coast', 'coast', 'coast', 'coast', 'coast', 'coast', 'coast', 'coast', 'coast', 'coast', 'coast', 'coast', 'coast', 'coast', 'coast', 'coast', 'coast', 'coast', 'coast', 'coast', 'coast', 'coast', 'coast', 'coast', 'coast', 'coast', 'coast', 'coast', 'coast', 'coast', 'coast', 'coast', 'coast', 'coast', 'coast', 'coast', 'coast', 'coast', 'coast', 'coast', 'coast', 'coast', 'coast', 'coast', 'coast', 'coast', 'coast', 'coast', 'coast', 'coast', 'coast', 'coast', 'coast', 'coast', 'coast', 'coast', 'coast', 'coast', 'coast', 'coast', 'coast', 'coast', 'coast', 'coast', 'coast', 'coast', 'coast', 'coast', 'coast', 'coast', 'coast', 'coast', 'coast', 'coast', 'coast', 'coast', 'coast', 'coast', 'coast', 'coast', 'coast', 'coast', 'coast', 'coast', 'coast', 'coast', 'coast', 'coast', 'coast', 'coast', 'coast', 'coast', 'coast', 'coast', 'coast', 'coast', 'coast', 'coast', 'coast', 'coast', 'coast', 'coast', 'coast', 'coast', 'coast', 'coast', 'coast', 'coast', 'coast', 'coast', 'coast', 'coast', 'coast', 'coast', 'coast', 'coast', 'coast', 'coast', 'coast', 'coast', 'coast', 'coast', 'coast', 'coast', 'coast', 'coast', 'coast', 'coast', 'coast', 'coast', 'coast', 'coast', 'coast', 'coast', 'coast', 'coast', 'coast', 'coast', 'coast', 'coast', 'coast', 'coast', 'coast', 'coast', 'coast', 'coast', 'coast', 'coast', 'coast', 'coast', 'coast', 'coast', 'coast', 'coast', 'coast', 'coast', 'coast', 'coast', 'coast', 'coast', 'coast', 'coast', 'coast', 'coast', 'coast', 'coast', 'coast', 'coast', 'coast', 'coast', 'coast', 'coast', 'coast', 'coast', 'coast', 'coast', 'coast', 'coast', 'coast', 'coast', 'coast', 'coast', 'coast', 'coast', 'coast', 'coast', 'coast', 'coast', 'coast', 'coast', 'coast', 'coast', 'coast', 'coast', 'coast', 'coast', 'coast', 'coast', 'coast', 'coast', 'coast', 'coast', 'coast', 'coast', 'coast', 'coast', 'coast', 'coast', 'coast', 'coast', 'coast', 'coast', 'coast', 'coast', 'coast']\n"
          ],
          "name": "stdout"
        }
      ]
    },
    {
      "cell_type": "code",
      "metadata": {
        "id": "mLujkP_-QGuc"
      },
      "source": [
        "# encode the labes, converting them from strings to integers\n",
        "lb = LabelBinarizer()\n",
        "labels = lb.fit_transform(labels)"
      ],
      "execution_count": 49,
      "outputs": []
    },
    {
      "cell_type": "code",
      "metadata": {
        "id": "seK0k3VwQiyf"
      },
      "source": [
        "print(labels)"
      ],
      "execution_count": null,
      "outputs": []
    },
    {
      "cell_type": "code",
      "metadata": {
        "colab": {
          "base_uri": "https://localhost:8080/"
        },
        "id": "_vQH8IeFawCR",
        "outputId": "849c20ec-f29c-4126-bd5b-fb4714fbf445"
      },
      "source": [
        "# perform a training and testing split, using 75% of the data for\n",
        "# training and 25% for evaluation\n",
        "(trainX, testX, trainY, testY) = train_test_split(np.array(data),\tnp.array(labels), test_size=0.25, shuffle=True)\n",
        "print(trainX.shape)\n",
        "print(testX.shape)"
      ],
      "execution_count": 52,
      "outputs": [
        {
          "output_type": "stream",
          "text": [
            "(711, 64, 64, 3)\n",
            "(237, 64, 64, 3)\n"
          ],
          "name": "stdout"
        }
      ]
    },
    {
      "cell_type": "code",
      "metadata": {
        "id": "g2GPYM-FTDrQ"
      },
      "source": [
        "from keras.models import Sequential\n",
        "from keras.layers.core import Flatten\n",
        "from keras.layers.core import Dense\n",
        "\n",
        "model = Sequential(\n",
        "    [\n",
        "     Flatten(input_shape=(64*64*3,)),\n",
        "     Dense(100, activation=\"relu\", name=\"layer1\"),\n",
        "     Dense(16, activation=\"relu\", name=\"layer2\"),\n",
        "     Dense(16, activation=\"relu\", name=\"layer3\"),\n",
        "     Dense(3, activation=\"softmax\", name=\"layer4\"),\n",
        "    ]\n",
        ")"
      ],
      "execution_count": 34,
      "outputs": []
    },
    {
      "cell_type": "code",
      "metadata": {
        "colab": {
          "base_uri": "https://localhost:8080/"
        },
        "id": "Mxzb1WLzeLJj",
        "outputId": "239262b5-8f18-4849-cbfe-933e581ae4ce"
      },
      "source": [
        "model.summary()"
      ],
      "execution_count": 54,
      "outputs": [
        {
          "output_type": "stream",
          "text": [
            "Model: \"sequential_1\"\n",
            "_________________________________________________________________\n",
            "Layer (type)                 Output Shape              Param #   \n",
            "=================================================================\n",
            "flatten_1 (Flatten)          (None, 12288)             0         \n",
            "_________________________________________________________________\n",
            "layer1 (Dense)               (None, 100)               1228900   \n",
            "_________________________________________________________________\n",
            "layer2 (Dense)               (None, 16)                1616      \n",
            "_________________________________________________________________\n",
            "layer3 (Dense)               (None, 16)                272       \n",
            "_________________________________________________________________\n",
            "layer4 (Dense)               (None, 3)                 51        \n",
            "=================================================================\n",
            "Total params: 1,230,839\n",
            "Trainable params: 1,230,839\n",
            "Non-trainable params: 0\n",
            "_________________________________________________________________\n"
          ],
          "name": "stdout"
        }
      ]
    },
    {
      "cell_type": "code",
      "metadata": {
        "colab": {
          "base_uri": "https://localhost:8080/"
        },
        "id": "KMH1pv7IUcme",
        "outputId": "ce4c7861-0864-4918-9aa6-44e8c2e1b585"
      },
      "source": [
        "# train the model using the Adam optimizer\n",
        "print(\"[INFO] training network...\")\n",
        "opt = Adam(lr=1e-3, decay=1e-3 / 50)\n",
        "model.compile(loss=\"categorical_crossentropy\", optimizer=opt, metrics=[\"accuracy\"])\n",
        "H = model.fit(trainX, trainY, validation_data=(testX, testY), epochs=25, batch_size=32)"
      ],
      "execution_count": 53,
      "outputs": [
        {
          "output_type": "stream",
          "text": [
            "[INFO] training network...\n",
            "Epoch 1/25\n",
            "WARNING:tensorflow:Model was constructed with shape (None, 12288) for input Tensor(\"flatten_1_input:0\", shape=(None, 12288), dtype=float32), but it was called on an input with incompatible shape (None, 64, 64, 3).\n",
            "WARNING:tensorflow:Model was constructed with shape (None, 12288) for input Tensor(\"flatten_1_input:0\", shape=(None, 12288), dtype=float32), but it was called on an input with incompatible shape (None, 64, 64, 3).\n",
            "22/23 [===========================>..] - ETA: 0s - loss: 1.2528 - accuracy: 0.3963WARNING:tensorflow:Model was constructed with shape (None, 12288) for input Tensor(\"flatten_1_input:0\", shape=(None, 12288), dtype=float32), but it was called on an input with incompatible shape (None, 64, 64, 3).\n",
            "23/23 [==============================] - 0s 19ms/step - loss: 1.2519 - accuracy: 0.3952 - val_loss: 0.9961 - val_accuracy: 0.5063\n",
            "Epoch 2/25\n",
            "23/23 [==============================] - 0s 12ms/step - loss: 0.9760 - accuracy: 0.4951 - val_loss: 0.9037 - val_accuracy: 0.5316\n",
            "Epoch 3/25\n",
            "23/23 [==============================] - 0s 12ms/step - loss: 0.9266 - accuracy: 0.5809 - val_loss: 0.9981 - val_accuracy: 0.5359\n",
            "Epoch 4/25\n",
            "23/23 [==============================] - 0s 12ms/step - loss: 0.8757 - accuracy: 0.6343 - val_loss: 0.8525 - val_accuracy: 0.6582\n",
            "Epoch 5/25\n",
            "23/23 [==============================] - 0s 12ms/step - loss: 0.8886 - accuracy: 0.6203 - val_loss: 0.9680 - val_accuracy: 0.6160\n",
            "Epoch 6/25\n",
            "23/23 [==============================] - 0s 11ms/step - loss: 0.7686 - accuracy: 0.6864 - val_loss: 0.6959 - val_accuracy: 0.7679\n",
            "Epoch 7/25\n",
            "23/23 [==============================] - 0s 12ms/step - loss: 0.6980 - accuracy: 0.7131 - val_loss: 0.8313 - val_accuracy: 0.6667\n",
            "Epoch 8/25\n",
            "23/23 [==============================] - 0s 12ms/step - loss: 0.7181 - accuracy: 0.7103 - val_loss: 0.6428 - val_accuracy: 0.7890\n",
            "Epoch 9/25\n",
            "23/23 [==============================] - 0s 12ms/step - loss: 0.6524 - accuracy: 0.7496 - val_loss: 0.6381 - val_accuracy: 0.7553\n",
            "Epoch 10/25\n",
            "23/23 [==============================] - 0s 12ms/step - loss: 0.5843 - accuracy: 0.7693 - val_loss: 0.6042 - val_accuracy: 0.8017\n",
            "Epoch 11/25\n",
            "23/23 [==============================] - 0s 12ms/step - loss: 0.5866 - accuracy: 0.7679 - val_loss: 0.8104 - val_accuracy: 0.6709\n",
            "Epoch 12/25\n",
            "23/23 [==============================] - 0s 12ms/step - loss: 0.5680 - accuracy: 0.7975 - val_loss: 0.7797 - val_accuracy: 0.6667\n",
            "Epoch 13/25\n",
            "23/23 [==============================] - 0s 12ms/step - loss: 0.5349 - accuracy: 0.7932 - val_loss: 0.6371 - val_accuracy: 0.7511\n",
            "Epoch 14/25\n",
            "23/23 [==============================] - 0s 12ms/step - loss: 0.5001 - accuracy: 0.8143 - val_loss: 1.0170 - val_accuracy: 0.6160\n",
            "Epoch 15/25\n",
            "23/23 [==============================] - 0s 12ms/step - loss: 0.6012 - accuracy: 0.7707 - val_loss: 0.7859 - val_accuracy: 0.6751\n",
            "Epoch 16/25\n",
            "23/23 [==============================] - 0s 12ms/step - loss: 0.6613 - accuracy: 0.7426 - val_loss: 0.6912 - val_accuracy: 0.7004\n",
            "Epoch 17/25\n",
            "23/23 [==============================] - 0s 12ms/step - loss: 0.5942 - accuracy: 0.7595 - val_loss: 0.5709 - val_accuracy: 0.8143\n",
            "Epoch 18/25\n",
            "23/23 [==============================] - 0s 12ms/step - loss: 0.4756 - accuracy: 0.8298 - val_loss: 0.5371 - val_accuracy: 0.8439\n",
            "Epoch 19/25\n",
            "23/23 [==============================] - 0s 12ms/step - loss: 0.4578 - accuracy: 0.8368 - val_loss: 0.6105 - val_accuracy: 0.7679\n",
            "Epoch 20/25\n",
            "23/23 [==============================] - 0s 12ms/step - loss: 0.4097 - accuracy: 0.8608 - val_loss: 0.5575 - val_accuracy: 0.7975\n",
            "Epoch 21/25\n",
            "23/23 [==============================] - 0s 12ms/step - loss: 0.4097 - accuracy: 0.8565 - val_loss: 0.5918 - val_accuracy: 0.8101\n",
            "Epoch 22/25\n",
            "23/23 [==============================] - 0s 12ms/step - loss: 0.3906 - accuracy: 0.8678 - val_loss: 0.5900 - val_accuracy: 0.7764\n",
            "Epoch 23/25\n",
            "23/23 [==============================] - 0s 12ms/step - loss: 0.4463 - accuracy: 0.8397 - val_loss: 0.5763 - val_accuracy: 0.8101\n",
            "Epoch 24/25\n",
            "23/23 [==============================] - 0s 12ms/step - loss: 0.4163 - accuracy: 0.8594 - val_loss: 0.6461 - val_accuracy: 0.7384\n",
            "Epoch 25/25\n",
            "23/23 [==============================] - 0s 12ms/step - loss: 0.3597 - accuracy: 0.8833 - val_loss: 0.5515 - val_accuracy: 0.8439\n"
          ],
          "name": "stdout"
        }
      ]
    },
    {
      "cell_type": "code",
      "metadata": {
        "colab": {
          "base_uri": "https://localhost:8080/",
          "height": 591
        },
        "id": "fhsRuJfge-nd",
        "outputId": "decd6644-e812-42c3-a89c-fd60a28ccb02"
      },
      "source": [
        "import matplotlib.pyplot as plt\n",
        "\n",
        "print(H.history.keys())\n",
        "# summarize history for accuracy\n",
        "plt.plot(H.history['accuracy'])\n",
        "plt.plot(H.history['val_accuracy'])\n",
        "plt.title('model accuracy')\n",
        "plt.ylabel('accuracy')\n",
        "plt.xlabel('epoch')\n",
        "plt.legend(['train', 'test'], loc='upper left')\n",
        "plt.show()\n",
        "# summarize history for loss\n",
        "plt.plot(H.history['loss'])\n",
        "plt.plot(H.history['val_loss'])\n",
        "plt.title('model loss')\n",
        "plt.ylabel('loss')\n",
        "plt.xlabel('epoch')\n",
        "plt.legend(['train', 'test'], loc='upper left')\n",
        "plt.show()\n"
      ],
      "execution_count": 56,
      "outputs": [
        {
          "output_type": "stream",
          "text": [
            "dict_keys(['loss', 'accuracy', 'val_loss', 'val_accuracy'])\n"
          ],
          "name": "stdout"
        },
        {
          "output_type": "display_data",
          "data": {
            "image/png": "[encoded data removed]",
            "text/plain": [
              "<Figure size 432x288 with 1 Axes>"
            ]
          },
          "metadata": {
            "tags": [],
            "needs_background": "light"
          }
        },
        {
          "output_type": "display_data",
          "data": {
            "image/png": "[encoded data removed]",
            "text/plain": [
              "<Figure size 432x288 with 1 Axes>"
            ]
          },
          "metadata": {
            "tags": [],
            "needs_background": "light"
          }
        }
      ]
    },
    {
      "cell_type": "code",
      "metadata": {
        "colab": {
          "base_uri": "https://localhost:8080/"
        },
        "id": "MLu0cOYFgSrt",
        "outputId": "99331604-46ea-4840-ed49-c76abed53464"
      },
      "source": [
        "# evaluate the network\n",
        "print(\"[INFO] evaluating network...\")\n",
        "predictions = model.predict(testX, batch_size=32)\n",
        "print(classification_report(testY.argmax(axis=1), predictions.argmax(axis=1), target_names=lb.classes_))"
      ],
      "execution_count": 57,
      "outputs": [
        {
          "output_type": "stream",
          "text": [
            "[INFO] evaluating network...\n",
            "WARNING:tensorflow:Model was constructed with shape (None, 12288) for input Tensor(\"flatten_1_input:0\", shape=(None, 12288), dtype=float32), but it was called on an input with incompatible shape (None, 64, 64, 3).\n",
            "              precision    recall  f1-score   support\n",
            "\n",
            "       coast       0.84      0.89      0.86        99\n",
            "      forest       0.84      0.85      0.84        73\n",
            "     highway       0.86      0.77      0.81        65\n",
            "\n",
            "    accuracy                           0.84       237\n",
            "   macro avg       0.85      0.84      0.84       237\n",
            "weighted avg       0.84      0.84      0.84       237\n",
            "\n"
          ],
          "name": "stdout"
        }
      ]
    }
  ]
}